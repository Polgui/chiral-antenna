{
 "cells": [
  {
   "cell_type": "markdown",
   "metadata": {},
   "source": [
    "## QST SIMULATION"
   ]
  },
  {
   "cell_type": "code",
   "execution_count": 1,
   "metadata": {
    "collapsed": true
   },
   "outputs": [],
   "source": [
    "from pylab import *\n",
    "from scipy.optimize import *\n",
    "from toolbox import *\n",
    "\n",
    "n_perp=10\n",
    "\n",
    "Lvec=linspace(15,15,1)\n",
    "\n",
    "Sopt_curved={}\n",
    "Iopt_curved={}\n",
    "Sopt_straight={}\n",
    "Iopt_straight={}\n",
    "\n",
    "for iterL in range(size(Lvec)):\n",
    "    \n",
    "    I = {}  ## PARAMETER DICTIONNARY\n",
    "    I['N'] = 2 # node number (should be 2)\n",
    "    I['nx'] = n_perp # atoms per node\n",
    "    I['ny'] = n_perp  # atoms per node\n",
    "    I['nz'] = 2 # atoms per node\n",
    "    I['n'] = I['nx']*I['ny']*I['nz'] # atoms per node\n",
    "    I['dx'] = 0.8 # atoms per node\n",
    "    I['dy'] = 0.8 # atoms per node\n",
    "    I['dz'] = 1-1./(2*2) # atoms per node\n",
    "    I['lambda0']=1.\n",
    "    I['L']=Lvec[iterL]+(I['nz']-1)*I['dz']/2 # distance from first atom to waist of gaussian mode\n",
    "    I['gamma'] = 1. # decay rate of ensemble atoms\n",
    "    I['Delta'] = -20. # Delta\n",
    "\n",
    "    #Sopt_curved[iterL],Iopt_curved[iterL]=mySolver(I,1,1,0)\n",
    "    Sopt_straight[iterL],Iopt_straight[iterL]=mySolver(I,1,0,1)"
   ]
  },
  {
   "cell_type": "code",
   "execution_count": 35,
   "metadata": {},
   "outputs": [
    {
     "data": {
      "image/png": "[encoded data removed]",
      "text/plain": [
       "<matplotlib.figure.Figure at 0x1080c12e8>"
      ]
     },
     "metadata": {},
     "output_type": "display_data"
    }
   ],
   "source": [
    "plt.plot(Lvec,myvec)\n",
    "plt.show()"
   ]
  },
  {
   "cell_type": "code",
   "execution_count": 34,
   "metadata": {
    "collapsed": true,
    "scrolled": true
   },
   "outputs": [],
   "source": [
    "myvec=np.zeros((20))\n",
    "for iterL in range(size(Lvec)):\n",
    "    myvec[iterL]=abs(Sopt_straight[iterL]['gammaR'])**2/(2*imag(Sopt_straight[iterL]['selfE1'])*2*imag(Sopt_straight[iterL]['selfE2']))"
   ]
  },
  {
   "cell_type": "markdown",
   "metadata": {},
   "source": [
    "## Display Electric Field"
   ]
  },
  {
   "cell_type": "code",
   "execution_count": 9,
   "metadata": {},
   "outputs": [
    {
     "data": {
      "image/png": "[encoded data removed]",
      "text/plain": [
       "<matplotlib.figure.Figure at 0x111e046d8>"
      ]
     },
     "metadata": {},
     "output_type": "display_data"
    }
   ],
   "source": [
    "from cfigure import*\n",
    "S=Sopt_straight[0]\n",
    "I=Iopt_straight[0]\n",
    "\n",
    "xmin=-15.\n",
    "xmax=15.;\n",
    "nbx=50;\n",
    "zmin=-50.;\n",
    "zmax=50;\n",
    "nbz=50\n",
    "y=0;\n",
    "\n",
    "xPosy=zeros((I['nx'],I['nz']*I['N']))\n",
    "zPosy=zeros((I['nx'],I['nz']*I['N']))\n",
    "\n",
    "for iterx in range(I['nx']):\n",
    "    for iterz in range(I['nz']*I['N']):\n",
    "        xPosy[iterx,iterz]=xPos(I,iterz*I['nx']*I['ny']+I['nx']*(I['ny']/2)+iterx)\n",
    "        zPosy[iterx,iterz]=zPos(I,iterz*I['nx']*I['ny']+I['nx']*(I['ny']/2)+iterx)\n",
    "xPosflat=xPosy.reshape(I['nx']*I['nz']*I['N'])\n",
    "zPosflat=zPosy.reshape(I['nx']*I['nz']*I['N'])\n",
    "\n",
    "zvec=linspace(zmin,zmax,nbz);\n",
    "xvec=linspace(xmin,xmax,nbx);\n",
    "    \n",
    "EF=zeros((nbz,nbx))+1j*zeros((nbz,nbx))\n",
    "for iterz in range(nbz):\n",
    "    for iterx in range(nbx):\n",
    "        for itern in range(I['n']*I['N']):\n",
    "            rdif=sqrt((y-yPos(I,itern))**2+(xvec[iterx]-xPos(I,itern))**2)\n",
    "            zdif=zvec[iterz]-zPos(I,itern)\n",
    "            EF[iterz,iterx]+=GreensTensor(I['lambda0'],rdif,zdif)*S['c'][itern]/I['lambda0']**2\n",
    "\n",
    "x = np.linspace(xmin, xmax, nbx)\n",
    "z = np.linspace(zmin, zmax, nbz)\n",
    "X,Z = np.meshgrid(x,z)\n",
    "\n",
    "#police = 60\n",
    "#myfig = cfigure(100,15,police,0)\n",
    "#ax = myfig.add_subplot(111)\n",
    "#ax.set_xlabel(\"$z/\\lambda_0$\")\n",
    "#ax.set_ylabel(\"$x/\\lambda_0$\",labelpad=-50)\n",
    "plt.pcolormesh(Z,X, abs(EF)/np.max(abs(EF)))#,rasterized=True,cmap=cm.Reds,shading=\"gouraud\",vmin=0.)\n",
    "plt.colorbar(ticks=[0.,0.25,0.5,0.75,1.]) \n",
    "plot(zPosflat,xPosflat, '.',mec='k')\n",
    "#ax.xaxis.set_major_locator(MultipleLocator(50))\n",
    "#plot(-10.5,0, 'o',ms=20,mec='k',color=cm.viridis(0.99))\n",
    "plt.show()\n",
    "#myfig.savefig(\"EFfieldvoila.pdf\",bbox_inches='tight')"
   ]
  }
 ],
 "metadata": {
  "kernelspec": {
   "display_name": "Python 3",
   "language": "python",
   "name": "python3"
  },
  "language_info": {
   "codemirror_mode": {
    "name": "ipython",
    "version": 3
   },
   "file_extension": ".py",
   "mimetype": "text/x-python",
   "name": "python",
   "nbconvert_exporter": "python",
   "pygments_lexer": "ipython3",
   "version": "3.6.2"
  }
 },
 "nbformat": 4,
 "nbformat_minor": 2
}
